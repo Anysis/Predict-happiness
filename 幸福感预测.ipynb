{
 "cells": [
  {
   "cell_type": "code",
   "execution_count": null,
   "metadata": {},
   "outputs": [],
   "source": [
    "import pandas as pd\n",
    "import numpy as np\n",
    "import matplotlib.pyplot as plt\n",
    "import seaborn as sns\n",
    "from sklearn.metrics import mean_squared_error\n",
    "from sklearn.model_selection import KFold\n",
    "import xgboost as xgb\n",
    "import lightgbm as lgb\n",
    "from catboost import Pool, CatBoostRegressor\n",
    "%matplotlib inline\n",
    "#显示所有列\n",
    "pd.set_option('display.max_columns', None)\n",
    "#显示所有行\n",
    "pd.set_option('display.max_rows', None)\n",
    "# 中文支持\n",
    "plt.rcParams['font.sans-serif']=['SimHei'] \n",
    "plt.rcParams['axes.unicode_minus']=False \n"
   ]
  },
  {
   "cell_type": "markdown",
   "metadata": {},
   "source": [
    "# <font color='blue' size=5> 一、理解数据"
   ]
  },
  {
   "cell_type": "code",
   "execution_count": null,
   "metadata": {},
   "outputs": [],
   "source": [
    "#导入数据\n",
    "train=pd.read_csv(\"happiness_train_complete.csv\",encoding='ISO-8859-1')\n",
    "test=pd.read_csv(\"happiness_test_complete.csv\",encoding='ISO-8859-1')\n",
    "test_sub=pd.read_csv(\"happiness_submit.csv\",encoding='ISO-8859-1')\n",
    "print('训练集格式：',train.shape)\n",
    "print('训练集格式：',test.shape)"
   ]
  },
  {
   "cell_type": "code",
   "execution_count": null,
   "metadata": {},
   "outputs": [],
   "source": [
    "#数据基础信息\n",
    "train.describe()"
   ]
  },
  {
   "cell_type": "code",
   "execution_count": null,
   "metadata": {},
   "outputs": [],
   "source": [
    "col = train.columns.tolist()\n",
    "print('数据特征及标签：',col)"
   ]
  },
  {
   "cell_type": "code",
   "execution_count": null,
   "metadata": {},
   "outputs": [],
   "source": [
    "train.head(5)"
   ]
  },
  {
   "cell_type": "code",
   "execution_count": null,
   "metadata": {},
   "outputs": [],
   "source": [
    "#训练集数据缺失程度\n",
    "train.info(verbose=True,null_counts=True)"
   ]
  },
  {
   "cell_type": "code",
   "execution_count": null,
   "metadata": {},
   "outputs": [],
   "source": [
    "#测试集数据缺失程度\n",
    "test.info(verbose=True,null_counts=True)"
   ]
  },
  {
   "cell_type": "markdown",
   "metadata": {},
   "source": [
    "# <font color='blue' size=5> 二、数据清洗"
   ]
  },
  {
   "cell_type": "code",
   "execution_count": null,
   "metadata": {
    "scrolled": true
   },
   "outputs": [],
   "source": [
    "#处理标签\n",
    "y_train_=train[\"happiness\"]\n",
    "print('标签数据分布:\\n',y_train_.value_counts())\n",
    "#将-8转换为3\n",
    "train['happiness'] = train['happiness'].map(lambda x: 3 if x==-8 else x)\n",
    "#将标签修改为0开始\n",
    "train['happiness'] = train['happiness'].map(lambda x:x-1)\n",
    "y_train_ = train['happiness']\n",
    "print('处理后的标签数据分布:\\n',y_train_.value_counts())"
   ]
  },
  {
   "cell_type": "code",
   "execution_count": null,
   "metadata": {
    "scrolled": true
   },
   "outputs": [],
   "source": [
    "#train和test连在一起\n",
    "data = pd.concat([train,test],axis=0,ignore_index=True)\n",
    "print('数据大小：',data.shape)"
   ]
  },
  {
   "cell_type": "code",
   "execution_count": null,
   "metadata": {},
   "outputs": [],
   "source": [
    "#处理数据类型\n",
    "#处理时间特征\n",
    "data['survey_time'] = pd.to_datetime(data['survey_time'],format='%Y-%m-%d %H:%M:%S')\n",
    "data[\"weekday\"]=data[\"survey_time\"].dt.weekday\n",
    "data[\"year\"]=data[\"survey_time\"].dt.year\n",
    "data[\"quarter\"]=data[\"survey_time\"].dt.quarter\n",
    "data[\"hour\"]=data[\"survey_time\"].dt.hour\n",
    "data[\"month\"]=data[\"survey_time\"].dt.month"
   ]
  },
  {
   "cell_type": "code",
   "execution_count": null,
   "metadata": {},
   "outputs": [],
   "source": [
    "#填充数据\n",
    "data[\"edu_status\"]=data[\"edu_status\"].fillna(5)\n",
    "data[\"edu_yr\"]=data[\"edu_yr\"].fillna(-2)\n",
    "data[\"property_other\"]=data[\"property_other\"].map(lambda x:0 if pd.isnull(x)  else 1)\n",
    "data[\"hukou_loc\"]=data[\"hukou_loc\"].fillna(1)\n",
    "data[\"social_neighbor\"]=data[\"social_neighbor\"].fillna(8)\n",
    "data[\"social_friend\"]=data[\"social_friend\"].fillna(8)\n",
    "data[\"work_status\"]=data[\"work_status\"].fillna(0)\n",
    "data[\"work_yr\"]=data[\"work_yr\"].fillna(0)\n",
    "data[\"work_type\"]=data[\"work_type\"].fillna(0)\n",
    "data[\"work_manage\"]=data[\"work_manage\"].fillna(0)\n",
    "data[\"family_income\"]=data[\"family_income\"].fillna(-2)\n",
    "data[\"invest_other\"]=data[\"invest_other\"].map(lambda x:0 if pd.isnull(x)  else 1)\n",
    "data[\"minor_child\"]=data[\"minor_child\"].fillna(0)\n",
    "data[\"marital_1st\"]=data[\"marital_1st\"].fillna(0)\n",
    "data[\"s_birth\"]=data[\"s_birth\"].fillna(0)\n",
    "data[\"marital_now\"]=data[\"marital_now\"].fillna(0)\n",
    "data[\"s_edu\"]=data[\"s_edu\"].fillna(0)\n",
    "data[\"s_political\"]=data[\"s_political\"].fillna(0)\n",
    "data[\"s_hukou\"]=data[\"s_hukou\"].fillna(0)\n",
    "data[\"s_income\"]=data[\"s_income\"].fillna(0)\n",
    "data[\"s_work_exper\"]=data[\"s_work_exper\"].fillna(0)\n",
    "data[\"s_work_status\"]=data[\"s_work_status\"].fillna(0)\n",
    "data[\"s_work_type\"]=data[\"s_work_type\"].fillna(0)\n",
    "#去掉缺失值很多的\n",
    "data=data.drop(['edu_other'], axis=1)"
   ]
  },
  {
   "cell_type": "markdown",
   "metadata": {},
   "source": [
    "# <font color='blue' size=5> 三、特征工程"
   ]
  },
  {
   "cell_type": "code",
   "execution_count": null,
   "metadata": {},
   "outputs": [],
   "source": [
    "#把一天的时间分段\n",
    "def hour_cut(x):\n",
    "    if 0<=x<6:\n",
    "        return 0\n",
    "    elif  6<=x<8:\n",
    "        return 1\n",
    "    elif  8<=x<12:\n",
    "        return 2\n",
    "    elif  12<=x<14:\n",
    "        return 3\n",
    "    elif  14<=x<18:\n",
    "        return 4\n",
    "    elif  18<=x<21:\n",
    "        return 5\n",
    "    elif  21<=x<24:\n",
    "        return 6\n",
    "\n",
    "data[\"hour_cut\"]=data[\"hour\"].map(hour_cut)"
   ]
  },
  {
   "cell_type": "code",
   "execution_count": null,
   "metadata": {},
   "outputs": [],
   "source": [
    "#是否入党\n",
    "data[\"join_party\"]=data[\"join_party\"].map(lambda x:0 if pd.isnull(x)  else 1)\n",
    "#做问卷时候的年龄\n",
    "data[\"survey_age\"]=data[\"year\"]-data[\"birth\"]"
   ]
  },
  {
   "cell_type": "code",
   "execution_count": null,
   "metadata": {},
   "outputs": [],
   "source": [
    "#出生的年代\n",
    "def birth_split(x):\n",
    "    if 1920<=x<=1930:\n",
    "        return 0\n",
    "    elif  1930<x<=1940:\n",
    "        return 1\n",
    "    elif  1940<x<=1950:\n",
    "        return 2\n",
    "    elif  1950<x<=1960:\n",
    "        return 3\n",
    "    elif  1960<x<=1970:\n",
    "        return 4\n",
    "    elif  1970<x<=1980:\n",
    "        return 5\n",
    "    elif  1980<x<=1990:\n",
    "        return 6\n",
    "    elif  1990<x<=2000:\n",
    "        return 7\n",
    "    \n",
    "data[\"birth_s\"]=data[\"birth\"].map(birth_split)"
   ]
  },
  {
   "cell_type": "code",
   "execution_count": null,
   "metadata": {},
   "outputs": [],
   "source": [
    "#收入分组\n",
    "def income_cut(x):\n",
    "    if x<=0:\n",
    "        return 0\n",
    "    elif  0<x<=1200:\n",
    "        return 1\n",
    "    elif  1200<x<=10000:\n",
    "        return 2\n",
    "    elif  10000<x<=24000:\n",
    "        return 3\n",
    "    elif  24000<x<=40000:\n",
    "        return 4\n",
    "    elif  40000<x:\n",
    "        return 5\n",
    " \n",
    "data[\"income_cut\"]=data[\"income\"].map(income_cut)"
   ]
  },
  {
   "cell_type": "code",
   "execution_count": null,
   "metadata": {},
   "outputs": [],
   "source": [
    "data.isnull().sum(axis=0)"
   ]
  },
  {
   "cell_type": "markdown",
   "metadata": {},
   "source": [
    "# <font color='blue' size=5> 四、数据可视化"
   ]
  },
  {
   "cell_type": "code",
   "execution_count": null,
   "metadata": {},
   "outputs": [],
   "source": [
    "#提取可视化数据\n",
    "data_show = data.copy().iloc[:train.shape[0]]"
   ]
  },
  {
   "cell_type": "markdown",
   "metadata": {},
   "source": [
    "## <font color='gray' size=4> 4.1 标签分布"
   ]
  },
  {
   "cell_type": "code",
   "execution_count": null,
   "metadata": {},
   "outputs": [],
   "source": [
    "#查看标签分布情况\n",
    "dict_y = {0:'非常不幸福',1:'比较不幸福',2:'一般',3:'比较幸福',4:'非常幸福'}\n",
    "y_train_dict = y_train_.map(dict_y)\n",
    "\n",
    "fig,ax = plt.subplots(1,2,figsize=(12,4))\n",
    "y_train_dict.value_counts().plot.pie(autopct='%1.1f%%',shadow=True,ax=ax[0])\n",
    "ax[0].set_title('happiness')\n",
    "ax[0].set_ylabel('')\n",
    "y_train_dict.value_counts().plot.bar()\n",
    "ax[1].set_title('happiness')\n",
    "#{0:非常不幸福,1:比较不幸福,2:一般,3:比较幸福,4:很幸福}"
   ]
  },
  {
   "cell_type": "markdown",
   "metadata": {},
   "source": [
    "居民普遍为中等幸福感，低幸福感的人数较少"
   ]
  },
  {
   "cell_type": "markdown",
   "metadata": {},
   "source": [
    "## <font color='gray' size=4> 4.2 性别和幸福感的关系"
   ]
  },
  {
   "cell_type": "code",
   "execution_count": null,
   "metadata": {},
   "outputs": [],
   "source": [
    "# 探究性别和幸福感的关系\n",
    "def transf_gender(x):\n",
    "    if x == 1:\n",
    "        return '男'\n",
    "    elif x == 2:\n",
    "        return '女'\n",
    "data_show['gender'] = data_show['gender'].map(transf_gender)\n",
    "data_show['happiness_type'] = data_show['happiness'].map(dict_y)\n",
    "\n",
    "fig,ax = plt.subplots(1,2,figsize=(12,4))\n",
    "sns.countplot('gender',hue='happiness_type',data=data_show,ax=ax[0])\n",
    "ax[0].set_title('Sex:happiness')\n",
    "ax[0].set_ylabel('happiness')\n",
    "sns.countplot('happiness_type',hue='gender',data=data_show,ax=ax[1])\n",
    "ax[1].set_title('Happiness:sex')\n",
    "ax[1].set_ylabel('gender')"
   ]
  },
  {
   "cell_type": "markdown",
   "metadata": {},
   "source": [
    "男女幸福指数并没有较大的差异"
   ]
  },
  {
   "cell_type": "markdown",
   "metadata": {},
   "source": [
    "## <font color='gray' size=4> 4.3 地区和幸福感的关系"
   ]
  },
  {
   "cell_type": "code",
   "execution_count": null,
   "metadata": {},
   "outputs": [],
   "source": [
    "dict_type={1:'城市',2:'农村'}\n",
    "data_show['survey_type'] = data_show['survey_type'].map(dict_type)\n",
    "fig,ax = plt.subplots(1,2,figsize=(16,6))\n",
    "sns.countplot('happiness_type',hue='survey_type',data=data_show,ax=ax[0])\n",
    "sns.countplot('survey_type',hue='happiness_type',data=data_show,ax=ax[1])"
   ]
  },
  {
   "cell_type": "markdown",
   "metadata": {},
   "source": [
    "城市居民相比于农村居民的幸福感更高，但都存在一部分幸福感较低的居民"
   ]
  },
  {
   "cell_type": "code",
   "execution_count": null,
   "metadata": {},
   "outputs": [],
   "source": [
    "dict_pro = {1:'上海市',2:'云南省',3:'内蒙古自治区',4:'北京市',5:'吉林省',6:'四川省',7:'天津市',8 : '宁夏回族自治区',\n",
    "           9: '安徽省',10:'山东省',11 :'山西省',12 :'广东省',13:'广西壮族自治区',14: '新疆维吾尔自治区',15:'江苏省',16:'江西省',\n",
    "           17:'河北省',18 :'河南省', 19:'浙江省',20 :'海南省',21:'湖北省', 22 :'湖南省',23:'甘肃省',24: '福建省', 25:'西藏自治区',\n",
    "           26:'贵州省', 27:'辽宁省', 28:'重庆市', 29:'陕西省', 30:'青海省',31:'黑龙江省'}\n",
    "pro = data_show['province'].unique().tolist()\n",
    "print('数据来源于%d个省'%len(pro))"
   ]
  },
  {
   "cell_type": "code",
   "execution_count": null,
   "metadata": {
    "scrolled": true
   },
   "outputs": [],
   "source": [
    "i=1\n",
    "for k in sorted(pro):\n",
    "    plt.figure(figsize=(12,6))\n",
    "    data_show[data_show['province']==k].happiness.value_counts().plot.bar()\n",
    "    plt.title(dict_pro[k])\n",
    "    plt.xlabel('幸福指数')\n",
    "    plt.ylabel('数量')\n",
    "    i+=1\n",
    "plt.show()"
   ]
  },
  {
   "cell_type": "markdown",
   "metadata": {},
   "source": [
    "## <font color='gray' size=4> 4.4 年龄和幸福感的关系"
   ]
  },
  {
   "cell_type": "code",
   "execution_count": null,
   "metadata": {},
   "outputs": [],
   "source": [
    "# 探究年龄和幸福感的关系\n",
    "h_age = data_show.groupby('survey_age',as_index=False).happiness.mean()\n",
    "plt.figure(figsize=(12,6))\n",
    "plt.plot(h_age['survey_age'],h_age['happiness'])\n",
    "plt.title('happiness-survey_age')\n",
    "plt.xlabel('survey_age')\n",
    "plt.ylabel('happiness')"
   ]
  },
  {
   "cell_type": "code",
   "execution_count": null,
   "metadata": {},
   "outputs": [],
   "source": [
    "# 便于观察，将年龄分组\n",
    "def split(x):\n",
    "    if x<18:\n",
    "        return '少年'\n",
    "    elif 18<=x<32:\n",
    "        return '成年'\n",
    "    elif 32<=x<64:\n",
    "        return '中年'\n",
    "    elif 64<x:\n",
    "        return '老年'\n",
    "    \n",
    "data_show['age'] = data_show['survey_age'].map(split)\n",
    "sns.countplot('age',hue='happiness_type',data = data_show)"
   ]
  },
  {
   "cell_type": "code",
   "execution_count": null,
   "metadata": {},
   "outputs": [],
   "source": [
    "figure1,ax1 = plt.subplots(1,3,figsize=(18,4))\n",
    "ax1[0].set_title('成年')\n",
    "data_show['happiness_type'][data_show['age']=='成年'].value_counts().plot.pie(autopct='%1.1f%%',ax=ax1[0],shadow=True)\n",
    "ax1[1].set_title('中年')\n",
    "data_show['happiness_type'][data_show['age']=='中年'].value_counts().plot.pie(autopct='%1.1f%%',ax=ax1[1],shadow=True)\n",
    "ax1[2].set_title('老年')\n",
    "data_show['happiness_type'][data_show['age']=='老年'].value_counts().plot.pie(autopct='%1.1f%%',ax=ax1[2],shadow=True)"
   ]
  },
  {
   "cell_type": "markdown",
   "metadata": {},
   "source": [
    "## <font color='gray' size=4> 4.5 特征相关性"
   ]
  },
  {
   "cell_type": "code",
   "execution_count": null,
   "metadata": {},
   "outputs": [],
   "source": [
    "data_show.corr().happiness.sort_values(ascending=False)"
   ]
  },
  {
   "cell_type": "code",
   "execution_count": null,
   "metadata": {},
   "outputs": [],
   "source": [
    "plt.figure(figsize=(18,18))\n",
    "sns.heatmap(data_show.corr())"
   ]
  },
  {
   "cell_type": "markdown",
   "metadata": {},
   "source": [
    "我们可以看出，有一部分的特征与标签的相关性较低，这一部分特征可以尝试剔除，鉴于本项目数据特征较少，我们全部保留。"
   ]
  },
  {
   "cell_type": "markdown",
   "metadata": {},
   "source": [
    "# <font color='blue' size=5> 五、选择模型"
   ]
  },
  {
   "cell_type": "code",
   "execution_count": null,
   "metadata": {},
   "outputs": [],
   "source": [
    "#删除无用特征\n",
    "data=data.drop(['id','happiness','survey_time'], axis=1)"
   ]
  },
  {
   "cell_type": "code",
   "execution_count": null,
   "metadata": {},
   "outputs": [],
   "source": [
    "#提取训练集和测试集\n",
    "X_train_ = data[:train.shape[0]]\n",
    "X_test_  = data[train.shape[0]:]\n",
    "target_column = 'happiness'\n",
    "feature_columns=list(X_test_.columns) \n",
    "print('训练集大小：',X_train_.shape)\n",
    "print('测试集大小：',X_test_.shape)\n",
    "print('特征列表：',feature_columns)"
   ]
  },
  {
   "cell_type": "code",
   "execution_count": null,
   "metadata": {},
   "outputs": [],
   "source": [
    "X_train = np.array(X_train_)\n",
    "y_train = np.array(y_train_)\n",
    "X_test  = np.array(X_test_)"
   ]
  },
  {
   "cell_type": "markdown",
   "metadata": {},
   "source": [
    "## <font color='gray' size=4> 5.1 XGB"
   ]
  },
  {
   "cell_type": "markdown",
   "metadata": {},
   "source": [
    "### <font color='gray' size=3> 5.1.1 训练模型"
   ]
  },
  {
   "cell_type": "code",
   "execution_count": null,
   "metadata": {},
   "outputs": [],
   "source": [
    "#自定义评价函数\n",
    "def myFeval(preds, xgbtrain):\n",
    "    label = xgbtrain.get_label()\n",
    "    score = mean_squared_error(label,preds)\n",
    "    return 'myFeval',score"
   ]
  },
  {
   "cell_type": "code",
   "execution_count": null,
   "metadata": {},
   "outputs": [],
   "source": [
    "##### xgb\n",
    "xgb_params = {\"booster\":'gbtree','eta': 0.005, 'max_depth': 4, 'subsample': 0.7,'alpha':1,'lambda':1,\n",
    "              'colsample_bytree': 0.8, 'objective': 'reg:linear', 'eval_metric': 'rmse', 'silent': True, 'nthread': 8}\n",
    "folds = KFold(n_splits=5, shuffle=True, random_state=2020)\n",
    "oof_xgb = np.zeros(len(train))\n",
    "predictions_xgb = np.zeros(len(test))\n",
    "\n",
    "for fold_, (trn_idx, val_idx) in enumerate(folds.split(X_train, y_train)):\n",
    "    print(\"fold n°{}\".format(fold_+1))\n",
    "    trn_data = xgb.DMatrix(X_train[trn_idx], y_train[trn_idx])\n",
    "    val_data = xgb.DMatrix(X_train[val_idx], y_train[val_idx])\n",
    "    \n",
    "    watchlist = [(trn_data, 'train'), (val_data, 'valid_data')]\n",
    "    clf_xgb = xgb.train(dtrain=trn_data, num_boost_round=20000, evals=watchlist, early_stopping_rounds=200, verbose_eval=100, params=xgb_params,feval = myFeval)\n",
    "    oof_xgb[val_idx] = clf_xgb.predict(xgb.DMatrix(X_train[val_idx]), ntree_limit=clf_xgb.best_ntree_limit)\n",
    "    predictions_xgb += clf_xgb.predict(xgb.DMatrix(X_test), ntree_limit=clf_xgb.best_ntree_limit) / folds.n_splits\n",
    "    \n",
    "print(\"CV score: {:<8.8f}\".format(mean_squared_error(oof_xgb, y_train_)))"
   ]
  },
  {
   "cell_type": "code",
   "execution_count": null,
   "metadata": {},
   "outputs": [],
   "source": [
    "result=list(predictions_xgb)\n",
    "result=list(map(lambda x: x + 1, result))\n",
    "\n",
    "test_sub['happiness']=result\n",
    "test_sub.to_csv('submit_xgb.csv', index=False)"
   ]
  },
  {
   "cell_type": "markdown",
   "metadata": {},
   "source": [
    "### <font color='gray' size=3> 5.1.2 XGB特征重要性"
   ]
  },
  {
   "cell_type": "code",
   "execution_count": null,
   "metadata": {},
   "outputs": [],
   "source": [
    "from xgboost import plot_importance\n",
    "fig,ax = plt.subplots(figsize=(15,15))\n",
    "plot_importance(clf_xgb,\n",
    "                height=0.5,\n",
    "                ax=ax,\n",
    "                max_num_features=50)\n",
    "plt.show()"
   ]
  },
  {
   "cell_type": "markdown",
   "metadata": {},
   "source": [
    "## <font color='gray' size=4> 5.2 LGB"
   ]
  },
  {
   "cell_type": "markdown",
   "metadata": {},
   "source": [
    "<font color='gray' size=3> 5.2.1 训练模型"
   ]
  },
  {
   "cell_type": "code",
   "execution_count": null,
   "metadata": {
    "scrolled": true
   },
   "outputs": [],
   "source": [
    "##### lgb\n",
    "param = {'boosting_type': 'gbdt',\n",
    "         'num_leaves': 20,\n",
    "         'min_data_in_leaf': 30, \n",
    "         'objective':'regression',\n",
    "         'max_depth':6,\n",
    "         'learning_rate': 0.01,\n",
    "         \"min_child_samples\": 40,\n",
    "         \"feature_fraction\": 0.7,\n",
    "         \"bagging_freq\": 1,\n",
    "         \"bagging_fraction\": 0.8,\n",
    "         \"bagging_seed\": 11,\n",
    "         \"metric\": 'mse',\n",
    "         \"lambda_l1\": 0.1,\n",
    "         \"verbosity\": -1}\n",
    "folds = KFold(n_splits=5, shuffle=True, random_state=2020)\n",
    "oof_lgb = np.zeros(len(X_train_))\n",
    "predictions_lgb = np.zeros(len(X_test_))\n",
    "for fold_, (trn_idx, val_idx) in enumerate(folds.split(X_train, y_train)):\n",
    "    print(\"fold n°{}\".format(fold_+1))\n",
    "    trn_data = lgb.Dataset(X_train[trn_idx], y_train[trn_idx])  \n",
    "    val_data = lgb.Dataset(X_train[val_idx], y_train[val_idx])\n",
    "    num_round = 10000\n",
    "    clf_lgb = lgb.train(param, trn_data, num_round, valid_sets = [trn_data, val_data], verbose_eval=200, early_stopping_rounds = 100)\n",
    "    oof_lgb[val_idx] = clf_lgb.predict(X_train[val_idx], num_iteration=clf_lgb.best_iteration)   \n",
    "    predictions_lgb += clf_lgb.predict(X_test, num_iteration=clf_lgb.best_iteration) / folds.n_splits\n",
    "print(\"CV score: {:<8.8f}\".format(mean_squared_error(oof_lgb, y_train_)))"
   ]
  },
  {
   "cell_type": "code",
   "execution_count": null,
   "metadata": {},
   "outputs": [],
   "source": [
    "result=list(predictions_lgb)\n",
    "result=list(map(lambda x: x + 1, result))\n",
    "\n",
    "test_sub['happiness']=result\n",
    "test_sub.to_csv('submit_lgb.csv', index=False)"
   ]
  },
  {
   "cell_type": "markdown",
   "metadata": {},
   "source": [
    "<font color='gray' size=3> 5.2.2 LGB特征重要性"
   ]
  },
  {
   "cell_type": "code",
   "execution_count": null,
   "metadata": {
    "scrolled": false
   },
   "outputs": [],
   "source": [
    "df = pd.DataFrame(X_test_.columns.tolist(), columns=['feature'])\n",
    "df['importance']=list(clf_lgb.feature_importance())\n",
    "df = df.sort_values(by='importance',ascending=False)\n",
    "plt.figure(figsize=(14,28))\n",
    "sns.barplot(x=\"importance\", y=\"feature\", data=df.head(50))\n",
    "plt.title('LGB features importance (averaged/folds)')\n",
    "plt.tight_layout()"
   ]
  },
  {
   "cell_type": "markdown",
   "metadata": {},
   "source": [
    "## <font color='gray' size=4> 5.3 CAT"
   ]
  },
  {
   "cell_type": "markdown",
   "metadata": {},
   "source": [
    "<font color='gray' size=3> 5.3.1 训练模型"
   ]
  },
  {
   "cell_type": "code",
   "execution_count": null,
   "metadata": {},
   "outputs": [],
   "source": [
    "kfolder = KFold(n_splits=5, shuffle=True, random_state=2020)\n",
    "oof_cb = np.zeros(len(X_train_))\n",
    "predictions_cb = np.zeros(len(X_test_))\n",
    "kfold = kfolder.split(X_train_, y_train_)\n",
    "fold_=0\n",
    "for train_index, vali_index in kfold:\n",
    "    print(\"fold n°{}\".format(fold_))\n",
    "    fold_=fold_+1\n",
    "    k_x_train = X_train[train_index]\n",
    "    k_y_train = y_train[train_index]\n",
    "    k_x_vali = X_train[vali_index]\n",
    "    k_y_vali = y_train[vali_index]\n",
    "    cb_params = {\n",
    "         'n_estimators': 100000,\n",
    "         'loss_function': 'RMSE',\n",
    "         'eval_metric':'RMSE',\n",
    "         'learning_rate': 0.05,\n",
    "         'depth': 5,\n",
    "         'use_best_model': True,\n",
    "         'subsample': 0.6,\n",
    "         'bootstrap_type': 'Bernoulli',\n",
    "         'reg_lambda': 3\n",
    "    }\n",
    "    model_cb = CatBoostRegressor(**cb_params)\n",
    "    #train the model\n",
    "    model_cb.fit(k_x_train, k_y_train,eval_set=[(k_x_vali, k_y_vali)],verbose=100,early_stopping_rounds=50)\n",
    "    oof_cb[vali_index] = model_cb.predict(k_x_vali, ntree_end=model_cb.best_iteration_)\n",
    "    predictions_cb += model_cb.predict(X_test_, ntree_end=model_cb.best_iteration_) / kfolder.n_splits\n",
    "print(\"CV score: {:<8.8f}\".format(mean_squared_error(oof_cb, y_train_)))"
   ]
  },
  {
   "cell_type": "code",
   "execution_count": null,
   "metadata": {},
   "outputs": [],
   "source": [
    "result=list(predictions_cb)\n",
    "result=list(map(lambda x: x + 1, result))\n",
    "test_sub['happiness']=result\n",
    "test_sub.to_csv('submit_cb.csv', index=False)"
   ]
  },
  {
   "cell_type": "markdown",
   "metadata": {},
   "source": [
    "<font color='gray' size=3> 5.3.2 CAT特征重要性"
   ]
  },
  {
   "cell_type": "code",
   "execution_count": null,
   "metadata": {},
   "outputs": [],
   "source": [
    "df = pd.DataFrame(X_test_.columns.tolist(), columns=['feature'])\n",
    "df['importance']=list(model_cb.get_feature_importance())\n",
    "df = df.sort_values(by='importance',ascending=False)\n",
    "plt.figure(figsize=(14,28))\n",
    "sns.barplot(x=\"importance\", y=\"feature\", data=df.head(50))\n",
    "plt.title('CAT features importance (averaged/folds)')\n",
    "plt.tight_layout()"
   ]
  },
  {
   "cell_type": "markdown",
   "metadata": {},
   "source": [
    "# <font color='blue' size=5> 六、模型融合，预测结果"
   ]
  },
  {
   "cell_type": "code",
   "execution_count": null,
   "metadata": {},
   "outputs": [],
   "source": [
    "from sklearn import linear_model\n",
    "from sklearn.model_selection import RepeatedKFold\n",
    "# 将lgb和xgb和ctb的结果进行stacking\n",
    "train_stack = np.vstack([oof_lgb,oof_xgb,oof_cb]).transpose()\n",
    "test_stack = np.vstack([predictions_lgb, predictions_xgb,predictions_cb]).transpose()\n",
    "\n",
    "folds_stack = RepeatedKFold(n_splits=5, n_repeats=2, random_state=2018)\n",
    "oof_stack = np.zeros(train_stack.shape[0])\n",
    "predictions = np.zeros(test_stack.shape[0])\n",
    "for fold_, (trn_idx, val_idx) in enumerate(folds_stack.split(train_stack,y_train)):\n",
    "    print(\"fold {}\".format(fold_))\n",
    "    trn_data, trn_y = train_stack[trn_idx], y_train[trn_idx]\n",
    "    val_data, val_y = train_stack[val_idx], y_train[val_idx]\n",
    "    clf_3 = linear_model.BayesianRidge()\n",
    "    clf_3.fit(trn_data, trn_y)\n",
    "    oof_stack[val_idx] = clf_3.predict(val_data)\n",
    "    predictions += clf_3.predict(test_stack) / 10\n",
    "print(\"CV score: {:<8.8f}\".format(mean_squared_error(oof_stack, y_train)))\n"
   ]
  },
  {
   "cell_type": "code",
   "execution_count": null,
   "metadata": {},
   "outputs": [],
   "source": [
    "result=list(predictions)\n",
    "result=list(map(lambda x: x + 1, result))\n",
    "\n",
    "test_sub['happiness']=result\n",
    "test_sub.to_csv('submit_20200129.csv', index=False)"
   ]
  }
 ],
 "metadata": {
  "kernelspec": {
   "display_name": "Python 3",
   "language": "python",
   "name": "python3"
  },
  "language_info": {
   "codemirror_mode": {
    "name": "ipython",
    "version": 3
   },
   "file_extension": ".py",
   "mimetype": "text/x-python",
   "name": "python",
   "nbconvert_exporter": "python",
   "pygments_lexer": "ipython3",
   "version": "3.7.4"
  }
 },
 "nbformat": 4,
 "nbformat_minor": 2
}
